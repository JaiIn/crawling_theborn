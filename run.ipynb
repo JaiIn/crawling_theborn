{
 "cells": [
  {
   "cell_type": "code",
   "execution_count": 47,
   "id": "fa576a10",
   "metadata": {},
   "outputs": [
    {
     "name": "stdout",
     "output_type": "stream",
     "text": [
      "Package                  Version\n",
      "------------------------ -----------\n",
      "aiohappyeyeballs         2.6.1\n",
      "aiohttp                  3.11.14\n",
      "aiosignal                1.3.2\n",
      "annotated-types          0.7.0\n",
      "anyio                    4.9.0\n",
      "asttokens                3.0.0\n",
      "attrs                    25.1.0\n",
      "blinker                  1.9.0\n",
      "certifi                  2025.1.31\n",
      "cffi                     1.17.1\n",
      "charset-normalizer       3.4.1\n",
      "click                    8.1.8\n",
      "colorama                 0.4.6\n",
      "comm                     0.2.2\n",
      "dataclasses-json         0.6.7\n",
      "debugpy                  1.8.13\n",
      "decorator                5.2.1\n",
      "distro                   1.9.0\n",
      "executing                2.2.0\n",
      "faiss-cpu                1.10.0\n",
      "filelock                 3.18.0\n",
      "Flask                    3.1.0\n",
      "flask-cors               5.0.1\n",
      "frozenlist               1.5.0\n",
      "fsspec                   2025.2.0\n",
      "greenlet                 3.1.1\n",
      "h11                      0.14.0\n",
      "httpcore                 1.0.7\n",
      "httpx                    0.28.1\n",
      "httpx-sse                0.4.0\n",
      "huggingface-hub          0.29.3\n",
      "idna                     3.10\n",
      "ipykernel                6.29.5\n",
      "ipython                  9.0.1\n",
      "ipython_pygments_lexers  1.1.1\n",
      "itsdangerous             2.2.0\n",
      "jedi                     0.19.2\n",
      "Jinja2                   3.1.6\n",
      "jiter                    0.9.0\n",
      "joblib                   1.4.2\n",
      "jsonpatch                1.33\n",
      "jsonpointer              3.0.0\n",
      "jupyter_client           8.6.3\n",
      "jupyter_core             5.7.2\n",
      "langchain                0.3.20\n",
      "langchain-community      0.3.19\n",
      "langchain-core           0.3.45\n",
      "langchain-openai         0.3.9\n",
      "langchain-text-splitters 0.3.6\n",
      "langsmith                0.3.15\n",
      "MarkupSafe               3.0.2\n",
      "marshmallow              3.26.1\n",
      "matplotlib-inline        0.1.7\n",
      "mpmath                   1.3.0\n",
      "multidict                6.2.0\n",
      "mypy-extensions          1.0.0\n",
      "nest-asyncio             1.6.0\n",
      "networkx                 3.4.2\n",
      "numpy                    2.2.3\n",
      "openai                   1.66.3\n",
      "orjson                   3.10.15\n",
      "outcome                  1.3.0.post0\n",
      "packaging                24.2\n",
      "pandas                   2.2.3\n",
      "parso                    0.8.4\n",
      "pillow                   11.1.0\n",
      "pip                      25.0.1\n",
      "platformdirs             4.3.6\n",
      "prompt_toolkit           3.0.50\n",
      "propcache                0.3.0\n",
      "psutil                   7.0.0\n",
      "pure_eval                0.2.3\n",
      "pycparser                2.22\n",
      "pydantic                 2.10.6\n",
      "pydantic_core            2.27.2\n",
      "pydantic-settings        2.8.1\n",
      "Pygments                 2.19.1\n",
      "PyMySQL                  1.1.1\n",
      "PySocks                  1.7.1\n",
      "python-dateutil          2.9.0.post0\n",
      "python-dotenv            1.0.1\n",
      "pytz                     2025.1\n",
      "pywin32                  308\n",
      "PyYAML                   6.0.2\n",
      "pyzmq                    26.2.1\n",
      "regex                    2024.11.6\n",
      "requests                 2.32.3\n",
      "requests-toolbelt        1.0.0\n",
      "safetensors              0.5.3\n",
      "scikit-learn             1.6.1\n",
      "scipy                    1.15.2\n",
      "selenium                 4.29.0\n",
      "sentence-transformers    3.4.1\n",
      "setuptools               76.1.0\n",
      "six                      1.17.0\n",
      "sniffio                  1.3.1\n",
      "sortedcontainers         2.4.0\n",
      "SQLAlchemy               2.0.38\n",
      "stack-data               0.6.3\n",
      "sympy                    1.13.1\n",
      "tenacity                 9.0.0\n",
      "threadpoolctl            3.6.0\n",
      "tiktoken                 0.9.0\n",
      "tokenizers               0.21.1\n",
      "torch                    2.6.0\n",
      "tornado                  6.4.2\n",
      "tqdm                     4.67.1\n",
      "traitlets                5.14.3\n",
      "transformers             4.49.0\n",
      "trio                     0.29.0\n",
      "trio-websocket           0.12.2\n",
      "typing_extensions        4.12.2\n",
      "typing-inspect           0.9.0\n",
      "tzdata                   2025.1\n",
      "urllib3                  2.3.0\n",
      "wcwidth                  0.2.13\n",
      "websocket-client         1.8.0\n",
      "Werkzeug                 3.1.3\n",
      "wsproto                  1.2.0\n",
      "xlrd                     2.0.1\n",
      "yarl                     1.18.3\n",
      "zstandard                0.23.0\n"
     ]
    }
   ],
   "source": [
    "!pip list"
   ]
  },
  {
   "cell_type": "code",
   "execution_count": 48,
   "id": "e638f89b",
   "metadata": {},
   "outputs": [],
   "source": [
    "!pip install -q selenium"
   ]
  },
  {
   "cell_type": "code",
   "execution_count": 49,
   "id": "0f085a38",
   "metadata": {},
   "outputs": [
    {
     "data": {
      "text/plain": [
       "'4.29.0'"
      ]
     },
     "execution_count": 49,
     "metadata": {},
     "output_type": "execute_result"
    }
   ],
   "source": [
    "import selenium\n",
    "\n",
    "selenium.__version__"
   ]
  },
  {
   "cell_type": "code",
   "execution_count": 50,
   "id": "329b7713",
   "metadata": {},
   "outputs": [],
   "source": [
    "from selenium import webdriver as wd"
   ]
  },
  {
   "cell_type": "code",
   "execution_count": 51,
   "id": "a62a88a1",
   "metadata": {},
   "outputs": [],
   "source": [
    "driver = wd.Chrome()"
   ]
  },
  {
   "cell_type": "code",
   "execution_count": 53,
   "id": "6c396e7a",
   "metadata": {},
   "outputs": [],
   "source": [
    "TARGET_SITE = \"https://www.theborn.co.kr/store/domestic-store/\"\n",
    "\n",
    "#접속\n",
    "driver.get(TARGET_SITE)\n",
    "\n",
    "import time\n",
    "time.sleep(2)"
   ]
  },
  {
   "cell_type": "code",
   "execution_count": 55,
   "id": "39ac4279",
   "metadata": {},
   "outputs": [
    {
     "data": {
      "text/plain": [
       "18"
      ]
     },
     "execution_count": 55,
     "metadata": {},
     "output_type": "execute_result"
    }
   ],
   "source": [
    "from selenium.webdriver.common.by import By\n",
    "\n",
    "sido_otps = driver.find_elements(By.CSS_SELECTOR, \".area_search .select > option\")\n",
    "len(sido_otps)"
   ]
  },
  {
   "cell_type": "code",
   "execution_count": 56,
   "id": "b2cf64fa",
   "metadata": {},
   "outputs": [
    {
     "data": {
      "text/plain": [
       "['서울특별시',\n",
       " '경기도',\n",
       " '인천광역시',\n",
       " '대전광역시',\n",
       " '충청북도',\n",
       " '충청남도',\n",
       " '강원도',\n",
       " '경상북도',\n",
       " '경상남도',\n",
       " '제주도',\n",
       " '울산광역시',\n",
       " '부산광역시',\n",
       " '광주광역시',\n",
       " '전라북도',\n",
       " '전라남도',\n",
       " '대구광역시',\n",
       " '세종특별자치시']"
      ]
     },
     "execution_count": 56,
     "metadata": {},
     "output_type": "execute_result"
    }
   ],
   "source": [
    "sido_values = [\n",
    "    sido_otp.text.strip()\n",
    "    for sido_otp in sido_otps[1:]\n",
    "]\n",
    "\n",
    "sido_values"
   ]
  },
  {
   "cell_type": "code",
   "execution_count": null,
   "id": "48679760",
   "metadata": {},
   "outputs": [],
   "source": [
    "for sido_value in sido_values:\n",
    "    sido = driver.find_element(By.CSS_SELECTOR, \".area_search .select\")\n",
    "    sido.send_keys(sido_value)\n",
    "    "
   ]
  },
  {
   "cell_type": "code",
   "execution_count": 59,
   "id": "cc8c887e",
   "metadata": {},
   "outputs": [
    {
     "data": {
      "text/plain": [
       "['강남구',\n",
       " '강동구',\n",
       " '강북구',\n",
       " '강서구',\n",
       " '관악구',\n",
       " '광진구',\n",
       " '구로구',\n",
       " '금천구',\n",
       " '노원구',\n",
       " '도봉구',\n",
       " '동대문구',\n",
       " '동작구',\n",
       " '마포구',\n",
       " '서대문구',\n",
       " '서초구',\n",
       " '성동구',\n",
       " '성북구',\n",
       " '송파구',\n",
       " '양천구',\n",
       " '영등포구',\n",
       " '용산구',\n",
       " '은평구',\n",
       " '종로구',\n",
       " '중구',\n",
       " '중랑구']"
      ]
     },
     "execution_count": 59,
     "metadata": {},
     "output_type": "execute_result"
    }
   ],
   "source": [
    "sigungu_opts = driver.find_elements(By.CSS_SELECTOR, \"#depth2 > option\")\n",
    "\n",
    "sigungu_values = [\n",
    "    sigungu_opt.text.strip()\n",
    "    for sigungu_opt in sigungu_opts[1:]\n",
    "]\n",
    "sigungu_values"
   ]
  },
  {
   "cell_type": "code",
   "execution_count": null,
   "id": "1faf3a72",
   "metadata": {},
   "outputs": [],
   "source": [
    "for sigungu_value in sigungu_values:\n",
    "\n",
    "    sigungu = driver.find_element(By.CSS_SELECTOR, \"#depth2\")\n",
    "    sigungu.send_keys(sigungu_value)"
   ]
  },
  {
   "cell_type": "code",
   "execution_count": 61,
   "id": "5217dac5",
   "metadata": {},
   "outputs": [
    {
     "data": {
      "text/plain": [
       "['고투웍',\n",
       " '대한국밥',\n",
       " '돌배기집',\n",
       " '롤링파스타',\n",
       " '리춘시장',\n",
       " '막이오름',\n",
       " '미정국수0410',\n",
       " '백스비어',\n",
       " '백철판0410',\n",
       " '본가',\n",
       " '빽다방',\n",
       " '빽보이피자',\n",
       " '새마을식당',\n",
       " '성성식당',\n",
       " '역전우동0410',\n",
       " '연돈볼카츠',\n",
       " '원조쌈밥집',\n",
       " '인생설렁탕',\n",
       " '제순식당',\n",
       " '한신포차',\n",
       " '홍콩반점0410',\n",
       " '홍콩분식']"
      ]
     },
     "execution_count": 61,
     "metadata": {},
     "output_type": "execute_result"
    }
   ],
   "source": [
    "brand_values = driver.find_elements(By.CSS_SELECTOR, \".brand_ch .select > option\")\n",
    "\n",
    "brand_values = [\n",
    "    brand.get_attribute(\"value\").strip()\n",
    "    for brand in brand_values[1:]\n",
    "]\n",
    "brand_values"
   ]
  },
  {
   "cell_type": "code",
   "execution_count": 70,
   "id": "62172df3",
   "metadata": {},
   "outputs": [],
   "source": [
    "for brand_value in brand_values:\n",
    "    brand = driver.find_element(By.CSS_SELECTOR, \"#select_brand\")\n",
    "    brand.send_keys(brand_value)\n",
    "    "
   ]
  },
  {
   "cell_type": "code",
   "execution_count": null,
   "id": "41230d0d",
   "metadata": {},
   "outputs": [
    {
     "name": "stdout",
     "output_type": "stream",
     "text": [
      "Page 1 crawling...\n",
      "Page 1 stores: \n",
      " ['빽다방 서울특별시 까치산역점 서울특별시 강서구 강서로 35 (화곡동)', '빽다방 서울특별시 양천향교역점 서울특별시 강서구 강서로 471 (마곡동)', '빽다방 서울특별시 화곡중앙시장점 서울특별시 강서구 가로공원로76길 75', '빽다방 서울특별시 가양중앙점 서울특별시 강서구 양천로57길 13', '빽다방 서울특별시 화곡아덴하임점 서울특별시 강서구 화곡로 238 (화곡동, 아덴하임) 1층 103호', '빽다방 서울특별시 등촌성당점 서울시 강서구 공항대로 41길 51, 1층 101호, 102호', '빽다방 서울특별시 마곡리더스타워점 서울 강서구 마곡동 800-5(공항대로 228) 리더스타워 1층 111호', '빽다방 서울특별시 마곡수명산점 서울 강서구 내발산동 750-12 (웨스턴빌딩 1층, 103호)', '빽다방 서울특별시 강서구청점 서울특별시 강서구 화곡로 318-1, 1층', '빽다방 서울특별시 마곡역류마타워점 서울특별시 강서구 마곡동 798-2(공항대로 164) 류마타워 105호']\n",
      "Page 2 crawling...\n",
      "Page 2 stores: \n",
      " ['빽다방 서울특별시 마곡역로뎀타워점 서울특별시 강서구 마곡동 799-1, 로뎀타워1층 127호', '빽다방 서울특별시 송정역점 서울특별시 강서구 공항대로 23', '빽다방 서울특별시 강서블루나인점 서울특별시 강서구 양천로 583 (염창동,우림블루나인비즈니스센터) 지하1층', '빽다방 서울특별시 화곡역점 서울시 강서구 화곡로25길2', '빽다방 서울특별시 발산역플레이스점 서울특별시 강서구 강서로 395. 플레이스 H 108호', '빽다방 서울특별시 마곡나루역북부점 서울특별시 강서구 마곡중앙5로 1길 20, 1층', '빽다방 서울특별시 방화사거리점 서울시 강서구 금낭화로 91-2, 대승프라자 1층', '빽다방 서울특별시 우장산역점 서울시 강서구 강서로 245, 1층', '빽다방 서울특별시 등촌성당점 서울특별시 강서구 공항대로41길 51, 세신그린코아 101호', '빽다방 서울특별시 마곡역GMG점 강서구 마곡중앙6로 16 마곡지엠지타워 1층']\n"
     ]
    }
   ],
   "source": [
    "total_pages = len(driver.find_elements(By.CSS_SELECTOR, \"#pagination li[data-page]\"))\n",
    "\n",
    "for page_num in range(1, total_pages): \n",
    "    print(f\"Page {page_num} crawling...\")\n",
    "    driver.find_element(By.CSS_SELECTOR, f\"li[data-page='{page_num}']\").click()\n",
    "    \n",
    "    time.sleep(2)\n",
    "    \n",
    "    store_values = driver.find_elements(By.CSS_SELECTOR, \"#store_list > div\")\n",
    "    \n",
    "    store_values = [\n",
    "        store.text.strip()\n",
    "        for store in store_values\n",
    "    ]\n",
    "    \n",
    "    print(f\"Page {page_num} stores: \", store_values)\n"
   ]
  }
 ],
 "metadata": {
  "kernelspec": {
   "display_name": "Python 3",
   "language": "python",
   "name": "python3"
  },
  "language_info": {
   "codemirror_mode": {
    "name": "ipython",
    "version": 3
   },
   "file_extension": ".py",
   "mimetype": "text/x-python",
   "name": "python",
   "nbconvert_exporter": "python",
   "pygments_lexer": "ipython3",
   "version": "3.12.6"
  }
 },
 "nbformat": 4,
 "nbformat_minor": 5
}
