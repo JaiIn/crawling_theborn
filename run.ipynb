{
 "cells": [
  {
   "cell_type": "code",
   "execution_count": null,
   "id": "fa576a10",
   "metadata": {},
   "outputs": [],
   "source": [
    "!pip list"
   ]
  },
  {
   "cell_type": "code",
   "execution_count": 2,
   "id": "e638f89b",
   "metadata": {},
   "outputs": [],
   "source": [
    "!pip install -q selenium"
   ]
  },
  {
   "cell_type": "code",
   "execution_count": 3,
   "id": "0f085a38",
   "metadata": {},
   "outputs": [
    {
     "data": {
      "text/plain": [
       "'4.29.0'"
      ]
     },
     "execution_count": 3,
     "metadata": {},
     "output_type": "execute_result"
    }
   ],
   "source": [
    "import selenium\n",
    "\n",
    "selenium.__version__"
   ]
  },
  {
   "cell_type": "code",
   "execution_count": 4,
   "id": "329b7713",
   "metadata": {},
   "outputs": [],
   "source": [
    "from selenium import webdriver as wd"
   ]
  },
  {
   "cell_type": "code",
   "execution_count": 5,
   "id": "a62a88a1",
   "metadata": {},
   "outputs": [],
   "source": [
    "driver = wd.Chrome()"
   ]
  },
  {
   "cell_type": "code",
   "execution_count": 6,
   "id": "6c396e7a",
   "metadata": {},
   "outputs": [],
   "source": [
    "TARGET_SITE = \"https://www.theborn.co.kr/store/domestic-store/\"\n",
    "\n",
    "#접속\n",
    "driver.get(TARGET_SITE)\n",
    "\n",
    "import time\n",
    "time.sleep(2)"
   ]
  },
  {
   "cell_type": "code",
   "execution_count": 15,
   "id": "39ac4279",
   "metadata": {},
   "outputs": [
    {
     "data": {
      "text/plain": [
       "18"
      ]
     },
     "execution_count": 15,
     "metadata": {},
     "output_type": "execute_result"
    }
   ],
   "source": [
    "from selenium.webdriver.common.by import By\n",
    "\n",
    "sido_otps = driver.find_elements(By.CSS_SELECTOR, \".area_search .select > option\")\n",
    "len(sido_otps)"
   ]
  },
  {
   "cell_type": "code",
   "execution_count": 21,
   "id": "b2cf64fa",
   "metadata": {},
   "outputs": [
    {
     "data": {
      "text/plain": [
       "['서울특별시',\n",
       " '경기도',\n",
       " '인천광역시',\n",
       " '대전광역시',\n",
       " '충청북도',\n",
       " '충청남도',\n",
       " '강원도',\n",
       " '경상북도',\n",
       " '경상남도',\n",
       " '제주도',\n",
       " '울산광역시',\n",
       " '부산광역시',\n",
       " '광주광역시',\n",
       " '전라북도',\n",
       " '전라남도',\n",
       " '대구광역시',\n",
       " '세종특별자치시']"
      ]
     },
     "execution_count": 21,
     "metadata": {},
     "output_type": "execute_result"
    }
   ],
   "source": [
    "sido_values = [\n",
    "    sido_otp.text.strip()\n",
    "    for sido_otp in sido_otps[1:]\n",
    "]\n",
    "\n",
    "sido_values"
   ]
  },
  {
   "cell_type": "code",
   "execution_count": 22,
   "id": "48679760",
   "metadata": {},
   "outputs": [],
   "source": [
    "for sido_value in sido_values:\n",
    "    sido = driver.find_element(By.CSS_SELECTOR, \".area_search .select\")\n",
    "    sido.send_keys(sido_value)\n",
    "    break\n",
    "    "
   ]
  },
  {
   "cell_type": "code",
   "execution_count": 24,
   "id": "cc8c887e",
   "metadata": {},
   "outputs": [
    {
     "data": {
      "text/plain": [
       "['강남구',\n",
       " '강동구',\n",
       " '강북구',\n",
       " '강서구',\n",
       " '관악구',\n",
       " '광진구',\n",
       " '구로구',\n",
       " '금천구',\n",
       " '노원구',\n",
       " '도봉구',\n",
       " '동대문구',\n",
       " '동작구',\n",
       " '마포구',\n",
       " '서대문구',\n",
       " '서초구',\n",
       " '성동구',\n",
       " '성북구',\n",
       " '송파구',\n",
       " '양천구',\n",
       " '영등포구',\n",
       " '용산구',\n",
       " '은평구',\n",
       " '종로구',\n",
       " '중구',\n",
       " '중랑구']"
      ]
     },
     "execution_count": 24,
     "metadata": {},
     "output_type": "execute_result"
    }
   ],
   "source": [
    "sigungu_opts = driver.find_elements(By.CSS_SELECTOR, \"#depth2 > option\")\n",
    "\n",
    "sigungu_values = [\n",
    "    sigungu_opt.text.strip()\n",
    "    for sigungu_opt in sigungu_opts[1:]\n",
    "]\n",
    "sigungu_values"
   ]
  },
  {
   "cell_type": "code",
   "execution_count": 31,
   "id": "1faf3a72",
   "metadata": {},
   "outputs": [],
   "source": [
    "for sigungu_value in sigungu_values:\n",
    "\n",
    "    sigungu = driver.find_element(By.CSS_SELECTOR, \"#depth2\")\n",
    "    sigungu.send_keys(sigungu_value)\n",
    "    break"
   ]
  },
  {
   "cell_type": "code",
   "execution_count": 35,
   "id": "5217dac5",
   "metadata": {},
   "outputs": [
    {
     "data": {
      "text/plain": [
       "['고투웍',\n",
       " '대한국밥',\n",
       " '돌배기집',\n",
       " '롤링파스타',\n",
       " '리춘시장',\n",
       " '막이오름',\n",
       " '미정국수0410',\n",
       " '백스비어',\n",
       " '백철판0410',\n",
       " '본가',\n",
       " '빽다방',\n",
       " '빽보이피자',\n",
       " '새마을식당',\n",
       " '성성식당',\n",
       " '역전우동0410',\n",
       " '연돈볼카츠',\n",
       " '원조쌈밥집',\n",
       " '인생설렁탕',\n",
       " '제순식당',\n",
       " '한신포차',\n",
       " '홍콩반점0410',\n",
       " '홍콩분식']"
      ]
     },
     "execution_count": 35,
     "metadata": {},
     "output_type": "execute_result"
    }
   ],
   "source": [
    "brand_values = driver.find_elements(By.CSS_SELECTOR, \".brand_ch .select > option\")\n",
    "\n",
    "brand_values = [\n",
    "    brand.get_attribute(\"value\").strip()\n",
    "    for brand in brand_values[1:]\n",
    "]\n",
    "brand_values"
   ]
  },
  {
   "cell_type": "code",
   "execution_count": 42,
   "id": "62172df3",
   "metadata": {},
   "outputs": [],
   "source": [
    "for brand_value in brand_values:\n",
    "    brand = driver.find_element(By.CSS_SELECTOR, \"#select_brand\")\n",
    "    brand.send_keys(brand_value)\n",
    "    break"
   ]
  }
 ],
 "metadata": {
  "kernelspec": {
   "display_name": "Python 3",
   "language": "python",
   "name": "python3"
  },
  "language_info": {
   "codemirror_mode": {
    "name": "ipython",
    "version": 3
   },
   "file_extension": ".py",
   "mimetype": "text/x-python",
   "name": "python",
   "nbconvert_exporter": "python",
   "pygments_lexer": "ipython3",
   "version": "3.12.6"
  }
 },
 "nbformat": 4,
 "nbformat_minor": 5
}
